{
 "cells": [
  {
   "cell_type": "markdown",
   "id": "5760acf2",
   "metadata": {},
   "source": [
    "## Streaming의 이유\n",
    "- 빠른 답변 \n",
    "- 적응형 상호작용\n",
    "- 효율성"
   ]
  },
  {
   "cell_type": "markdown",
   "id": "4f7ddf84",
   "metadata": {},
   "source": [
    "### 1. Stdout 사용\n",
    "- streaming=True\n",
    "- StreamingStdOutCallbackHandler와 같이 토큰이 생성될 때 그대로 출력"
   ]
  },
  {
   "cell_type": "code",
   "execution_count": 1,
   "id": "4a020814",
   "metadata": {},
   "outputs": [],
   "source": [
    "import os\n",
    "from langchain.chat_models import ChatOpenAI\n",
    "from langchain.callbacks.streaming_stdout import StreamingStdOutCallbackHandler"
   ]
  },
  {
   "cell_type": "code",
   "execution_count": 2,
   "id": "811f2f35",
   "metadata": {},
   "outputs": [],
   "source": [
    "import os\n",
    "OPENAI_API_KEY = os.environ.get('OPENAI_API_KEY')"
   ]
  },
  {
   "cell_type": "code",
   "execution_count": 3,
   "id": "e10f02f0",
   "metadata": {},
   "outputs": [
    {
     "name": "stderr",
     "output_type": "stream",
     "text": [
      "C:\\Users\\sy\\anaconda3\\lib\\site-packages\\langchain_core\\_api\\deprecation.py:117: LangChainDeprecationWarning: The class `langchain_community.chat_models.openai.ChatOpenAI` was deprecated in langchain-community 0.0.10 and will be removed in 0.2.0. An updated version of the class exists in the langchain-openai package and should be used instead. To use it run `pip install -U langchain-openai` and import as `from langchain_openai import ChatOpenAI`.\n",
      "  warn_deprecated(\n"
     ]
    }
   ],
   "source": [
    "llm = ChatOpenAI(\n",
    "    openai_api_key=OPENAI_API_KEY,\n",
    "    temperature=0.0,\n",
    "    model_name=\"gpt-3.5-turbo\",\n",
    "    streaming=True,  # ! important\n",
    "    callbacks=[StreamingStdOutCallbackHandler()]  # ! important\n",
    ")"
   ]
  },
  {
   "cell_type": "code",
   "execution_count": 4,
   "id": "a290aa18",
   "metadata": {},
   "outputs": [
    {
     "name": "stderr",
     "output_type": "stream",
     "text": [
      "C:\\Users\\sy\\anaconda3\\lib\\site-packages\\langchain_core\\_api\\deprecation.py:117: LangChainDeprecationWarning: The function `__call__` was deprecated in LangChain 0.1.7 and will be removed in 0.2.0. Use invoke instead.\n",
      "  warn_deprecated(\n"
     ]
    },
    {
     "name": "stdout",
     "output_type": "stream",
     "text": [
      "Once upon a time, in a small village nestled in the mountains, there lived a young girl named Elara. Elara was known throughout the village for her kindness and generosity, always willing to help those in need. She lived with her parents in a cozy cottage at the edge of the forest, where she spent her days exploring the woods and playing with the animals that called it home.\n",
      "\n",
      "One day, while out on a walk, Elara stumbled upon a wounded deer. The poor creature had been caught in a trap set by hunters and was in desperate need of help. Without hesitation, Elara carefully freed the deer from the trap and tended to its wounds, using herbs and plants she had learned about from her mother, who was a skilled healer.\n",
      "\n",
      "As the days passed, Elara nursed the deer back to health, and the two formed a deep bond. The deer, whom Elara named Luna, became her constant companion, following her wherever she went and protecting her from harm. Together, they roamed the forest, exploring its hidden wonders and helping those in need.\n",
      "\n",
      "One day, a great evil descended upon the village. A wicked sorcerer had cast a spell over the land, causing crops to wither and animals to fall ill. The villagers were desperate for help, but none knew how to break the curse. Elara knew that she had to do something to save her home and the people she loved.\n",
      "\n",
      "With Luna by her side, Elara set out on a quest to find the sorcerer and put an end to his dark magic. Along the way, they encountered many challenges and obstacles, but Elara's courage and determination never wavered. With Luna's help, she was able to overcome every trial that came her way.\n",
      "\n",
      "Finally, after a long and arduous journey, Elara and Luna reached the sorcerer's lair. The sorcerer, a twisted and malevolent figure, laughed at their attempts to defeat him. But Elara, fueled by love and compassion, stood her ground and faced him with unwavering resolve.\n",
      "\n",
      "In a fierce battle of magic and willpower, Elara and Luna fought against the sorcerer, using all their strength and cunning to break his hold over the land. In the end, it was Elara's pure heart and unwavering spirit that triumphed, dispelling the sorcerer's curse and restoring peace and prosperity to the village.\n",
      "\n",
      "The villagers hailed Elara as a hero, and she and Luna were celebrated as saviors of the land. From that day on, Elara and Luna continued to roam the forest, helping those in need and spreading kindness and light wherever they went. And though many years have passed since that fateful day, their legend lives on, a testament to the power of love and courage in the face of darkness."
     ]
    },
    {
     "data": {
      "text/plain": [
       "AIMessage(content=\"Once upon a time, in a small village nestled in the mountains, there lived a young girl named Elara. Elara was known throughout the village for her kindness and generosity, always willing to help those in need. She lived with her parents in a cozy cottage at the edge of the forest, where she spent her days exploring the woods and playing with the animals that called it home.\\n\\nOne day, while out on a walk, Elara stumbled upon a wounded deer. The poor creature had been caught in a trap set by hunters and was in desperate need of help. Without hesitation, Elara carefully freed the deer from the trap and tended to its wounds, using herbs and plants she had learned about from her mother, who was a skilled healer.\\n\\nAs the days passed, Elara nursed the deer back to health, and the two formed a deep bond. The deer, whom Elara named Luna, became her constant companion, following her wherever she went and protecting her from harm. Together, they roamed the forest, exploring its hidden wonders and helping those in need.\\n\\nOne day, a great evil descended upon the village. A wicked sorcerer had cast a spell over the land, causing crops to wither and animals to fall ill. The villagers were desperate for help, but none knew how to break the curse. Elara knew that she had to do something to save her home and the people she loved.\\n\\nWith Luna by her side, Elara set out on a quest to find the sorcerer and put an end to his dark magic. Along the way, they encountered many challenges and obstacles, but Elara's courage and determination never wavered. With Luna's help, she was able to overcome every trial that came her way.\\n\\nFinally, after a long and arduous journey, Elara and Luna reached the sorcerer's lair. The sorcerer, a twisted and malevolent figure, laughed at their attempts to defeat him. But Elara, fueled by love and compassion, stood her ground and faced him with unwavering resolve.\\n\\nIn a fierce battle of magic and willpower, Elara and Luna fought against the sorcerer, using all their strength and cunning to break his hold over the land. In the end, it was Elara's pure heart and unwavering spirit that triumphed, dispelling the sorcerer's curse and restoring peace and prosperity to the village.\\n\\nThe villagers hailed Elara as a hero, and she and Luna were celebrated as saviors of the land. From that day on, Elara and Luna continued to roam the forest, helping those in need and spreading kindness and light wherever they went. And though many years have passed since that fateful day, their legend lives on, a testament to the power of love and courage in the face of darkness.\")"
      ]
     },
     "execution_count": 4,
     "metadata": {},
     "output_type": "execute_result"
    }
   ],
   "source": [
    "from langchain.schema import HumanMessage\n",
    "\n",
    "messages = [HumanMessage(content=\"tell me a long story\")]\n",
    "\n",
    "llm(messages)"
   ]
  },
  {
   "cell_type": "markdown",
   "id": "cfd3dc6f",
   "metadata": {},
   "source": [
    "#### process\n",
    "- memory 설정\n",
    "- tool: llm_math 설정\n",
    "- agent 초기화: 생성되면 멈춤 "
   ]
  },
  {
   "cell_type": "code",
   "execution_count": 5,
   "id": "cbae7009",
   "metadata": {},
   "outputs": [
    {
     "name": "stderr",
     "output_type": "stream",
     "text": [
      "C:\\Users\\sy\\anaconda3\\lib\\site-packages\\langchain_core\\_api\\deprecation.py:117: LangChainDeprecationWarning: The function `initialize_agent` was deprecated in LangChain 0.1.0 and will be removed in 0.2.0. Use Use new agent constructor methods like create_react_agent, create_json_agent, create_structured_chat_agent, etc. instead.\n",
      "  warn_deprecated(\n"
     ]
    }
   ],
   "source": [
    "from langchain.memory import ConversationBufferWindowMemory\n",
    "from langchain.agents import load_tools, AgentType, initialize_agent\n",
    "\n",
    "# initialize conversational memory\n",
    "memory = ConversationBufferWindowMemory(\n",
    "    memory_key=\"chat_history\",\n",
    "    k=5,\n",
    "    return_messages=True,\n",
    "    output_key=\"output\"\n",
    ")\n",
    "\n",
    "# create a single tool to see how it impacts streaming\n",
    "tools = load_tools([\"llm-math\"], llm=llm)\n",
    "\n",
    "# initialize the agent\n",
    "agent = initialize_agent(\n",
    "    agent=AgentType.CHAT_CONVERSATIONAL_REACT_DESCRIPTION,\n",
    "    tools=tools,\n",
    "    llm=llm,\n",
    "    memory=memory,\n",
    "    verbose=True,\n",
    "    max_iterations=3,\n",
    "    early_stopping_method=\"generate\",\n",
    "    return_intermediate_steps=False\n",
    ")"
   ]
  },
  {
   "cell_type": "code",
   "execution_count": 6,
   "id": "3147ffc3",
   "metadata": {},
   "outputs": [
    {
     "name": "stderr",
     "output_type": "stream",
     "text": [
      "C:\\Users\\sy\\anaconda3\\lib\\site-packages\\langchain_core\\_api\\deprecation.py:117: LangChainDeprecationWarning: The function `__call__` was deprecated in LangChain 0.1.0 and will be removed in 0.2.0. Use invoke instead.\n",
      "  warn_deprecated(\n"
     ]
    },
    {
     "name": "stdout",
     "output_type": "stream",
     "text": [
      "\n",
      "\n",
      "\u001b[1m> Entering new AgentExecutor chain...\u001b[0m\n",
      "```json\n",
      "{\n",
      "    \"action\": \"Final Answer\",\n",
      "    \"action_input\": \"I'm just a computer program, so I don't have feelings, but I'm here and ready to assist you. How can I help you today?\"\n",
      "}\n",
      "```\u001b[32;1m\u001b[1;3m```json\n",
      "{\n",
      "    \"action\": \"Final Answer\",\n",
      "    \"action_input\": \"I'm just a computer program, so I don't have feelings, but I'm here and ready to assist you. How can I help you today?\"\n",
      "}\n",
      "```\u001b[0m\n",
      "\n",
      "\u001b[1m> Finished chain.\u001b[0m\n"
     ]
    },
    {
     "data": {
      "text/plain": [
       "{'input': 'Hello, how are you?',\n",
       " 'chat_history': [],\n",
       " 'output': \"I'm just a computer program, so I don't have feelings, but I'm here and ready to assist you. How can I help you today?\"}"
      ]
     },
     "execution_count": 6,
     "metadata": {},
     "output_type": "execute_result"
    }
   ],
   "source": [
    "prompt = \"Hello, how are you?\"\n",
    "\n",
    "agent(prompt)"
   ]
  },
  {
   "cell_type": "markdown",
   "id": "ae3517e5",
   "metadata": {},
   "source": [
    "- JSON 형식이 같이 출력됨"
   ]
  },
  {
   "cell_type": "code",
   "execution_count": 7,
   "id": "da0fdb3e",
   "metadata": {},
   "outputs": [
    {
     "name": "stdout",
     "output_type": "stream",
     "text": [
      "\n",
      "\n",
      "\u001b[1m> Entering new AgentExecutor chain...\u001b[0m\n",
      "```json\n",
      "{\n",
      "    \"action\": \"Calculator\",\n",
      "    \"action_input\": \"square root of 71\"\n",
      "}\n",
      "```\u001b[32;1m\u001b[1;3m```json\n",
      "{\n",
      "    \"action\": \"Calculator\",\n",
      "    \"action_input\": \"square root of 71\"\n",
      "}\n",
      "```\u001b[0m```text\n",
      "71**0.5\n",
      "```\n",
      "...numexpr.evaluate(\"71**0.5\")...\n",
      "\n",
      "Observation: \u001b[36;1m\u001b[1;3mAnswer: 8.426149773176359\u001b[0m\n",
      "Thought:```json\n",
      "{\n",
      "    \"action\": \"Final Answer\",\n",
      "    \"action_input\": \"The square root of 71 is approximately 8.426149773176359.\"\n",
      "}\n",
      "```\u001b[32;1m\u001b[1;3m```json\n",
      "{\n",
      "    \"action\": \"Final Answer\",\n",
      "    \"action_input\": \"The square root of 71 is approximately 8.426149773176359.\"\n",
      "}\n",
      "```\u001b[0m\n",
      "\n",
      "\u001b[1m> Finished chain.\u001b[0m\n"
     ]
    },
    {
     "data": {
      "text/plain": [
       "{'input': 'what is the square root of 71?',\n",
       " 'chat_history': [HumanMessage(content='Hello, how are you?'),\n",
       "  AIMessage(content=\"I'm just a computer program, so I don't have feelings, but I'm here and ready to assist you. How can I help you today?\")],\n",
       " 'output': 'The square root of 71 is approximately 8.426149773176359.'}"
      ]
     },
     "execution_count": 7,
     "metadata": {},
     "output_type": "execute_result"
    }
   ],
   "source": [
    "agent(\"what is the square root of 71?\")"
   ]
  },
  {
   "cell_type": "code",
   "execution_count": 8,
   "id": "92b92048",
   "metadata": {},
   "outputs": [],
   "source": [
    "new_llm = ChatOpenAI(\n",
    "    openai_api_key=OPENAI_API_KEY,\n",
    "    temperature=0.0,\n",
    "    model_name=\"gpt-3.5-turbo\",\n",
    "    streaming=True, \n",
    "    callbacks=[StreamingStdOutCallbackHandler()]  # ! important\n",
    ")"
   ]
  },
  {
   "cell_type": "code",
   "execution_count": 11,
   "id": "9f1384d2",
   "metadata": {},
   "outputs": [],
   "source": [
    "from langchain.callbacks.streaming_stdout_final_only import (\n",
    "    FinalStreamingStdOutCallbackHandler,\n",
    ")\n",
    "\n",
    "new_llm.callbacks = [\n",
    "    FinalStreamingStdOutCallbackHandler(\n",
    "        answer_prefix_tokens=[\"Final\", \"Answer\"]\n",
    "    )\n",
    "]"
   ]
  },
  {
   "cell_type": "code",
   "execution_count": 12,
   "id": "35e8eddb",
   "metadata": {},
   "outputs": [
    {
     "name": "stdout",
     "output_type": "stream",
     "text": [
      "\n",
      "\n",
      "\u001b[1m> Entering new AgentExecutor chain...\u001b[0m\n",
      "```json\n",
      "{\n",
      "    \"action\": \"Calculator\",\n",
      "    \"action_input\": \"square root of 71\"\n",
      "}\n",
      "```\u001b[32;1m\u001b[1;3m```json\n",
      "{\n",
      "    \"action\": \"Calculator\",\n",
      "    \"action_input\": \"square root of 71\"\n",
      "}\n",
      "```\u001b[0m```text\n",
      "71**0.5\n",
      "```\n",
      "...numexpr.evaluate(\"71**0.5\")...\n",
      "\n",
      "Observation: \u001b[36;1m\u001b[1;3mAnswer: 8.426149773176359\u001b[0m\n",
      "Thought:```json\n",
      "{\n",
      "    \"action\": \"Final Answer\",\n",
      "    \"action_input\": \"The square root of 71 is approximately 8.426149773176359.\"\n",
      "}\n",
      "```\u001b[32;1m\u001b[1;3m```json\n",
      "{\n",
      "    \"action\": \"Final Answer\",\n",
      "    \"action_input\": \"The square root of 71 is approximately 8.426149773176359.\"\n",
      "}\n",
      "```\u001b[0m\n",
      "\n",
      "\u001b[1m> Finished chain.\u001b[0m\n"
     ]
    },
    {
     "data": {
      "text/plain": [
       "{'input': 'what is the square root of 71?',\n",
       " 'chat_history': [HumanMessage(content='Hello, how are you?'),\n",
       "  AIMessage(content=\"I'm just a computer program, so I don't have feelings, but I'm here and ready to assist you. How can I help you today?\"),\n",
       "  HumanMessage(content='what is the square root of 71?'),\n",
       "  AIMessage(content='The square root of 71 is approximately 8.426149773176359.')],\n",
       " 'output': 'The square root of 71 is approximately 8.426149773176359.'}"
      ]
     },
     "execution_count": 12,
     "metadata": {},
     "output_type": "execute_result"
    }
   ],
   "source": [
    "agent(\"what is the square root of 71?\")"
   ]
  },
  {
   "cell_type": "markdown",
   "id": "b4618686",
   "metadata": {},
   "source": [
    "### 2. 클래스 정의: 생성된 토큰을 캡처하고 최종 답변이 처리될 때 콘솔에 특정 콘텐츠 출력 "
   ]
  },
  {
   "cell_type": "code",
   "execution_count": 13,
   "id": "5e1ef788",
   "metadata": {},
   "outputs": [],
   "source": [
    "import sys\n",
    "\n",
    "class CallbackHandler(StreamingStdOutCallbackHandler):\n",
    "    def __init__(self):\n",
    "        self.content: str = \"\"\n",
    "        self.final_answer: bool = False\n",
    "\n",
    "    def on_llm_new_token(self, token: str, **kwargs: any) -> None:\n",
    "        self.content += token\n",
    "        if \"Final Answer\" in self.content:\n",
    "            # now we're in the final answer section, but don't print yet\n",
    "            self.final_answer = True\n",
    "            self.content = \"\"\n",
    "        if self.final_answer:\n",
    "            if '\"action_input\": \"' in self.content:\n",
    "                if token not in [\"}\"]:\n",
    "                    sys.stdout.write(token)  # equal to `print(token, end=\"\")`\n",
    "                    sys.stdout.flush()\n",
    "\n",
    "new_llm = [CallbackHandler()]"
   ]
  },
  {
   "cell_type": "code",
   "execution_count": 14,
   "id": "cc879e67",
   "metadata": {},
   "outputs": [
    {
     "name": "stdout",
     "output_type": "stream",
     "text": [
      "\n",
      "\n",
      "\u001b[1m> Entering new AgentExecutor chain...\u001b[0m\n",
      "```json\n",
      "{\n",
      "    \"action\": \"Calculator\",\n",
      "    \"action_input\": \"square root of 71\"\n",
      "}\n",
      "```\u001b[32;1m\u001b[1;3m```json\n",
      "{\n",
      "    \"action\": \"Calculator\",\n",
      "    \"action_input\": \"square root of 71\"\n",
      "}\n",
      "```\u001b[0m```text\n",
      "71**0.5\n",
      "```\n",
      "...numexpr.evaluate(\"71**0.5\")...\n",
      "\n",
      "Observation: \u001b[36;1m\u001b[1;3mAnswer: 8.426149773176359\u001b[0m\n",
      "Thought:```json\n",
      "{\n",
      "    \"action\": \"Final Answer\",\n",
      "    \"action_input\": \"The square root of 71 is approximately 8.426149773176359.\"\n",
      "}\n",
      "```\u001b[32;1m\u001b[1;3m```json\n",
      "{\n",
      "    \"action\": \"Final Answer\",\n",
      "    \"action_input\": \"The square root of 71 is approximately 8.426149773176359.\"\n",
      "}\n",
      "```\u001b[0m\n",
      "\n",
      "\u001b[1m> Finished chain.\u001b[0m\n"
     ]
    },
    {
     "data": {
      "text/plain": [
       "{'input': 'what is the square root of 71?',\n",
       " 'chat_history': [HumanMessage(content='Hello, how are you?'),\n",
       "  AIMessage(content=\"I'm just a computer program, so I don't have feelings, but I'm here and ready to assist you. How can I help you today?\"),\n",
       "  HumanMessage(content='what is the square root of 71?'),\n",
       "  AIMessage(content='The square root of 71 is approximately 8.426149773176359.'),\n",
       "  HumanMessage(content='what is the square root of 71?'),\n",
       "  AIMessage(content='The square root of 71 is approximately 8.426149773176359.')],\n",
       " 'output': 'The square root of 71 is approximately 8.426149773176359.'}"
      ]
     },
     "execution_count": 14,
     "metadata": {},
     "output_type": "execute_result"
    }
   ],
   "source": [
    "agent(\"what is the square root of 71?\")"
   ]
  },
  {
   "cell_type": "markdown",
   "id": "a1f1603b",
   "metadata": {},
   "source": [
    "### Using FastAPI with Agents"
   ]
  },
  {
   "cell_type": "code",
   "execution_count": null,
   "id": "9e46bd47",
   "metadata": {},
   "outputs": [],
   "source": [
    "import requests\n",
    "\n",
    "res = requests.get(\"http://localhost:8000/health\")\n",
    "res.json()"
   ]
  },
  {
   "cell_type": "code",
   "execution_count": null,
   "id": "d9fdaf6b",
   "metadata": {},
   "outputs": [],
   "source": [
    "res = requests.get(\"http://localhost:8000/chat\",\n",
    "    json={\"text\": \"hello there!\"}\n",
    ")\n",
    "res"
   ]
  },
  {
   "cell_type": "code",
   "execution_count": null,
   "id": "6f07584f",
   "metadata": {},
   "outputs": [],
   "source": [
    "res.json()"
   ]
  },
  {
   "cell_type": "markdown",
   "id": "3153b8c0",
   "metadata": {},
   "source": [
    "- StreamingResponse 를 사용하여 토큰을 FastAPI로 공급하는 생성기 함수로 토큰을 보냄.--> 비동기 방식 사용 \n",
    "\n",
    "- 큐는 콜백 핸들러에 의해 액세스되며, 각 토큰이 생성될 때 토큰을 큐에 넣음\n",
    "- 생성기는 토큰이 추가된 것을 보자마자 토큰을 얻고 StreamingResponse 을 산출함.\n",
    "\n",
    "- 실행 중인 것을 보기 위해 get_stream이라는 스트림 요청 함수를 정의"
   ]
  },
  {
   "cell_type": "markdown",
   "id": "0b4a68ed",
   "metadata": {},
   "source": [
    "- 로컬 FastAPI 서버의 엔드포인트(/chat)에 요청\n",
    "- 응답을 스트리밍\n",
    "- 스트리밍된 콘텐츠를 한 줄씩 인쇄"
   ]
  },
  {
   "cell_type": "code",
   "execution_count": null,
   "id": "abc12100",
   "metadata": {},
   "outputs": [],
   "source": [
    "def get_stream(query: str):\n",
    "    s = requests.Session()\n",
    "    with s.get(\n",
    "        \"http://localhost:8000/chat\",\n",
    "        stream=True,\n",
    "        json={\"text\": query}\n",
    "    ) as r:\n",
    "        for line in r.iter_content():\n",
    "            print(line.decode(\"utf-8\"), end=\"\")"
   ]
  },
  {
   "cell_type": "markdown",
   "id": "66503889",
   "metadata": {},
   "source": [
    "- fastapi 사용 "
   ]
  },
  {
   "cell_type": "code",
   "execution_count": null,
   "id": "6aed48dd",
   "metadata": {},
   "outputs": [],
   "source": []
  }
 ],
 "metadata": {
  "kernelspec": {
   "display_name": "Python 3 (ipykernel)",
   "language": "python",
   "name": "python3"
  },
  "language_info": {
   "codemirror_mode": {
    "name": "ipython",
    "version": 3
   },
   "file_extension": ".py",
   "mimetype": "text/x-python",
   "name": "python",
   "nbconvert_exporter": "python",
   "pygments_lexer": "ipython3",
   "version": "3.7.16"
  }
 },
 "nbformat": 4,
 "nbformat_minor": 5
}
