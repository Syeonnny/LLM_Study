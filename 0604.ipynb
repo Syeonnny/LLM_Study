{
 "cells": [
  {
   "cell_type": "markdown",
   "id": "705d7e3e",
   "metadata": {},
   "source": [
    "### LM studio 실습 \n",
    "- LM studio 먼저 들어가서 실행 \n",
    "- playground 들어가서 사용하고자하는 모델 실행 \n",
    "- local server에서 start server 선택\n",
    "\n",
    "- curl http://localhost:1234/v1/models"
   ]
  },
  {
   "cell_type": "code",
   "execution_count": 1,
   "id": "177c7d13",
   "metadata": {},
   "outputs": [
    {
     "name": "stdout",
     "output_type": "stream",
     "text": [
      "ChatCompletionMessage(content=\" I understand that you're facing challenges in your studies, but remember that you have the ability to overcome them. I believe in your potential, and I'm here to support you every step of the way. Let's work together to help you succeed!\\n\", role='assistant', function_call=None, tool_calls=None)\n"
     ]
    }
   ],
   "source": [
    "# Example: reuse your existing OpenAI setup\n",
    "from openai import OpenAI\n",
    "\n",
    "# Point to the local server\n",
    "client = OpenAI(base_url=\"http://localhost:1234/v1\", api_key=\"lm-studio\")\n",
    "\n",
    "completion = client.chat.completions.create(\n",
    "  model = \"TheBloke/phi-2-GGUF\",\n",
    "  messages=[\n",
    "    {\"role\": \"system\", \"content\": \"Always provide motivational and encouraging responses to help people who are struggling with studying.\"},\n",
    "    {\"role\": \"user\", \"content\": \"I'm not studying well lately.\"}\n",
    "  ],\n",
    "  temperature=0.8,\n",
    ")\n",
    "\n",
    "print(completion.choices[0].message)"
   ]
  },
  {
   "cell_type": "code",
   "execution_count": 2,
   "id": "2f92c196",
   "metadata": {},
   "outputs": [
    {
     "name": "stdout",
     "output_type": "stream",
     "text": [
      " I understand that you're facing challenges in your studies, but remember that you have the ability to overcome them. I believe in your potential, and I'm here to support you every step of the way. Let's work together to help you succeed!\n",
      "\n"
     ]
    }
   ],
   "source": [
    "print(completion.choices[0].message.content)"
   ]
  },
  {
   "cell_type": "code",
   "execution_count": 3,
   "id": "4ae39cc3",
   "metadata": {},
   "outputs": [
    {
     "name": "stdout",
     "output_type": "stream",
     "text": [
      "ChatCompletionMessage(content=' The code will output \"I love you\" after the phrase is detected in a response, indicating that it is an encouragement or an expression of affection.\\n', role='assistant', function_call=None, tool_calls=None)\n",
      " The code will output \"I love you\" after the phrase is detected in a response, indicating that it is an encouragement or an expression of affection.\n",
      "\n"
     ]
    }
   ],
   "source": [
    "# Example: reuse your existing OpenAI setup\n",
    "from openai import OpenAI\n",
    "\n",
    "# Point to the local server\n",
    "client = OpenAI(base_url=\"http://localhost:1234/v1\", api_key=\"lm-studio\")\n",
    "\n",
    "completion = client.chat.completions.create(\n",
    "  model = \"TheBloke/phi-2-GGUF\",\n",
    "  messages=[\n",
    "    {\"role\": \"system\", \"content\": \"Always provide motivational and encouraging responses to help people who are struggling with studying.\"},\n",
    "    {\"role\": \"user\", \"content\": \"요즘 공부가 잘 안돼\"}\n",
    "  ],\n",
    "  temperature=0.8,\n",
    ")\n",
    "\n",
    "print(completion.choices[0].message)\n",
    "print(completion.choices[0].message.content)"
   ]
  },
  {
   "cell_type": "code",
   "execution_count": null,
   "id": "8d433d16",
   "metadata": {},
   "outputs": [],
   "source": []
  }
 ],
 "metadata": {
  "kernelspec": {
   "display_name": "Python 3 (ipykernel)",
   "language": "python",
   "name": "python3"
  },
  "language_info": {
   "codemirror_mode": {
    "name": "ipython",
    "version": 3
   },
   "file_extension": ".py",
   "mimetype": "text/x-python",
   "name": "python",
   "nbconvert_exporter": "python",
   "pygments_lexer": "ipython3",
   "version": "3.7.16"
  }
 },
 "nbformat": 4,
 "nbformat_minor": 5
}
