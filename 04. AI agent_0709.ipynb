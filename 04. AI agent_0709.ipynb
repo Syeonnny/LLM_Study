{
 "cells": [
  {
   "cell_type": "markdown",
   "id": "c60534cf-56ca-44d1-99ca-5ad3b735d144",
   "metadata": {
    "id": "c60534cf-56ca-44d1-99ca-5ad3b735d144"
   },
   "source": [
    "### agent?\n",
    "- 우리의 대리인이라 생각하면 됨\n",
    "- 사용자가 명령을 주면, (tool) 알아서 검토하고 작업 결과물을 전달함.\n",
    "- chain of thought 에 행동을 부여"
   ]
  },
  {
   "cell_type": "markdown",
   "id": "a3e80371-6f12-4b10-9a4b-1a532ef52365",
   "metadata": {
    "id": "a3e80371-6f12-4b10-9a4b-1a532ef52365"
   },
   "source": [
    "#### agent를 사용하기 위한 세가지\n",
    "- 기본 LLM\n",
    "- tool\n",
    "- control the interaction agent"
   ]
  },
  {
   "cell_type": "markdown",
   "id": "c969c490-7570-48cb-8971-945a1d4302c7",
   "metadata": {
    "id": "c969c490-7570-48cb-8971-945a1d4302c7"
   },
   "source": [
    "#### - agent 작동 방식\n",
    "1. input 할당 (사용자가)\n",
    "2. agent가 생각\n",
    "3. action/action input 사용할 도구 tool 결정, 도구의 input 결정\n",
    "4. 도구의 출력 결과 관찰 observation\n",
    "5. 관찰 결과가 작업이 완료 됐다고 판단될 때까지 과정을 반복함.\n",
    "\n",
    "ex. 계산기\n",
    "- llmmathchain을 사용하여 계산하는 함수를 만들어서 사용할거임 = 초기화함\n",
    "- tool 생성함, 이 tool엔 llm_math.run 가 실행하도록 저장되어 있음.\n",
    "- 질문이 들어오면, 질문이 tool 리스트에 들어가서 llm_math.run 함수를 거쳐 계산을 해주도록 함"
   ]
  },
  {
   "cell_type": "markdown",
   "id": "6c1760bd-2fb7-4e02-bd68-d5a907f88be4",
   "metadata": {
    "id": "6c1760bd-2fb7-4e02-bd68-d5a907f88be4"
   },
   "source": [
    "### 일반 에이전트\n",
    "- 다양한 도구를 사용하여 작업을 수행\n",
    "- 각 도구는 특정 작업을 처리하며, 에이전트는 적절한 도구를 선택하여 실행\n",
    "### ReAct 프레임워크\n",
    "- 에이전트가 추론과 행동을 결합하여 복잡한 작업을 단계적으로 해결, 더 정교한 문제 해결이 필요할 때 유용\n",
    "- 모델이 단순히 질문에 대한 즉각적인 답변을 제공하는 것을 넘어서, 문제를 단계별로 분석하고 중간 결과를 바탕으로 최종 결론을 도출하는 방식을 채택"
   ]
  },
  {
   "cell_type": "code",
   "execution_count": 1,
   "id": "yZycQpQ1eGKO",
   "metadata": {
    "executionInfo": {
     "elapsed": 10784,
     "status": "ok",
     "timestamp": 1731434724578,
     "user": {
      "displayName": "킹승영",
      "userId": "12420221722795178737"
     },
     "user_tz": -540
    },
    "id": "yZycQpQ1eGKO"
   },
   "outputs": [],
   "source": [
    "! pip install langchain -q\n",
    "! pip install -U langchain-community -q\n",
    "! pip install -U langchain-openai -q"
   ]
  },
  {
   "cell_type": "code",
   "execution_count": null,
   "id": "acac5044-c72e-4209-8590-5ecba86b1a9b",
   "metadata": {
    "executionInfo": {
     "elapsed": 7,
     "status": "ok",
     "timestamp": 1731434724579,
     "user": {
      "displayName": "킹승영",
      "userId": "12420221722795178737"
     },
     "user_tz": -540
    },
    "id": "acac5044-c72e-4209-8590-5ecba86b1a9b"
   },
   "outputs": [],
   "source": [
    "# import os\n",
    "# OPENAI_API_KEY = os.environ.get('OPENAI_API_KEY')\n",
    "OPENAI_API_KEY = ''"
   ]
  },
  {
   "cell_type": "code",
   "execution_count": 3,
   "id": "5bb43295-3974-4094-b28a-992fe4918cb7",
   "metadata": {
    "executionInfo": {
     "elapsed": 6,
     "status": "ok",
     "timestamp": 1731434724579,
     "user": {
      "displayName": "킹승영",
      "userId": "12420221722795178737"
     },
     "user_tz": -540
    },
    "id": "5bb43295-3974-4094-b28a-992fe4918cb7"
   },
   "outputs": [],
   "source": [
    "# from langchain import OpenAI\n",
    "\n",
    "# llm = OpenAI(\n",
    "#     openai_api_key = OPENAI_API_KEY,\n",
    "#     temperature = 0,\n",
    "#     model_name = \"text-davinci-003\"\n",
    "# )"
   ]
  },
  {
   "cell_type": "code",
   "execution_count": 4,
   "id": "sEyILZX6gpBI",
   "metadata": {
    "executionInfo": {
     "elapsed": 2344,
     "status": "ok",
     "timestamp": 1731434726918,
     "user": {
      "displayName": "킹승영",
      "userId": "12420221722795178737"
     },
     "user_tz": -540
    },
    "id": "sEyILZX6gpBI"
   },
   "outputs": [],
   "source": [
    "from langchain_openai import ChatOpenAI\n",
    "\n",
    "# OpenAI 클라이언트 생성\n",
    "llm = ChatOpenAI(\n",
    "    openai_api_key=OPENAI_API_KEY,\n",
    "    temperature=0,\n",
    "    model=\"gpt-3.5-turbo\",\n",
    ")"
   ]
  },
  {
   "cell_type": "code",
   "execution_count": 5,
   "id": "ac125c95-1783-42af-a924-736032616b7d",
   "metadata": {
    "colab": {
     "base_uri": "https://localhost:8080/"
    },
    "executionInfo": {
     "elapsed": 1080,
     "status": "ok",
     "timestamp": 1731434727995,
     "user": {
      "displayName": "킹승영",
      "userId": "12420221722795178737"
     },
     "user_tz": -540
    },
    "id": "ac125c95-1783-42af-a924-736032616b7d",
    "outputId": "e1eab6b3-9abf-40b2-c0e0-d91d93202502"
   },
   "outputs": [
    {
     "name": "stderr",
     "output_type": "stream",
     "text": [
      "<ipython-input-5-09d92eb4ca8a>:4: LangChainDeprecationWarning: This class is deprecated and will be removed in langchain 1.0. See API reference for replacement: https://api.python.langchain.com/en/latest/chains/langchain.chains.llm_math.base.LLMMathChain.html\n",
      "  llm_math = LLMMathChain(llm=llm)\n",
      "/usr/local/lib/python3.10/dist-packages/langchain/chains/llm_math/base.py:175: UserWarning: Directly instantiating an LLMMathChain with an llm is deprecated. Please instantiate with llm_chain argument or using the from_llm class method.\n",
      "  warnings.warn(\n"
     ]
    }
   ],
   "source": [
    "from langchain.chains import LLMMathChain\n",
    "from langchain.agents import Tool\n",
    "\n",
    "llm_math = LLMMathChain(llm=llm)\n",
    "\n",
    "# initialize the math tool\n",
    "math_tool = Tool(\n",
    "    name='Calculator',\n",
    "    func=llm_math.run,\n",
    "    description='Useful for when you need to answer questions about math.'\n",
    ")\n",
    "# when giving tools to LLM, we must pass as list of tools\n",
    "tools = [math_tool]"
   ]
  },
  {
   "cell_type": "code",
   "execution_count": 6,
   "id": "IpJA4HRri6yL",
   "metadata": {
    "executionInfo": {
     "elapsed": 5,
     "status": "ok",
     "timestamp": 1731434727995,
     "user": {
      "displayName": "킹승영",
      "userId": "12420221722795178737"
     },
     "user_tz": -540
    },
    "id": "IpJA4HRri6yL"
   },
   "outputs": [],
   "source": [
    "# 삭제될 부분 LLMMathChain으로 교체\n",
    "from langchain.chains import LLMMathChain\n",
    "from langchain.agents import Tool\n",
    "\n",
    "# from_llm 메서드를 사용하여 LLMMathChain 생성\n",
    "llm_math = LLMMathChain.from_llm(llm)\n",
    "\n",
    "# 수학 도구 초기화\n",
    "math_tool = Tool(\n",
    "    name='Calculator',\n",
    "    func=llm_math.run,\n",
    "    description='Useful for when you need to answer questions about math.'\n",
    ")\n",
    "\n",
    "# 도구를 리스트로 전달\n",
    "tools = [math_tool]"
   ]
  },
  {
   "cell_type": "code",
   "execution_count": 7,
   "id": "dbcb42c3-5ea9-4e1e-ad56-4d4a94805e9e",
   "metadata": {
    "executionInfo": {
     "elapsed": 498,
     "status": "ok",
     "timestamp": 1731434728489,
     "user": {
      "displayName": "킹승영",
      "userId": "12420221722795178737"
     },
     "user_tz": -540
    },
    "id": "dbcb42c3-5ea9-4e1e-ad56-4d4a94805e9e"
   },
   "outputs": [],
   "source": [
    "from langchain.agents import load_tools\n",
    "\n",
    "tools = load_tools(\n",
    "    ['llm-math'],\n",
    "    llm=llm\n",
    ")"
   ]
  },
  {
   "cell_type": "code",
   "execution_count": 8,
   "id": "5a17b4a6-5644-470e-b8d1-4039232c8c9b",
   "metadata": {
    "colab": {
     "base_uri": "https://localhost:8080/"
    },
    "executionInfo": {
     "elapsed": 5,
     "status": "ok",
     "timestamp": 1731434728489,
     "user": {
      "displayName": "킹승영",
      "userId": "12420221722795178737"
     },
     "user_tz": -540
    },
    "id": "5a17b4a6-5644-470e-b8d1-4039232c8c9b",
    "outputId": "d8ecded8-e9a7-4801-f394-48227ad4df00"
   },
   "outputs": [
    {
     "data": {
      "text/plain": [
       "('Calculator', 'Useful for when you need to answer questions about math.')"
      ]
     },
     "execution_count": 8,
     "metadata": {},
     "output_type": "execute_result"
    }
   ],
   "source": [
    "tools[0].name, tools[0].description"
   ]
  },
  {
   "cell_type": "code",
   "execution_count": 9,
   "id": "d395eab4-e519-41e0-8a28-b53ca135a765",
   "metadata": {
    "colab": {
     "base_uri": "https://localhost:8080/"
    },
    "executionInfo": {
     "elapsed": 4,
     "status": "ok",
     "timestamp": 1731434728489,
     "user": {
      "displayName": "킹승영",
      "userId": "12420221722795178737"
     },
     "user_tz": -540
    },
    "id": "d395eab4-e519-41e0-8a28-b53ca135a765",
    "outputId": "11ff953f-6a4b-4357-b770-0cc56384b60d"
   },
   "outputs": [
    {
     "name": "stderr",
     "output_type": "stream",
     "text": [
      "<ipython-input-9-b92914d53875>:3: LangChainDeprecationWarning: The function `initialize_agent` was deprecated in LangChain 0.1.0 and will be removed in 1.0. Use :meth:`~Use new agent constructor methods like create_react_agent, create_json_agent, create_structured_chat_agent, etc.` instead.\n",
      "  zero_shot_agent = initialize_agent(\n"
     ]
    }
   ],
   "source": [
    "from langchain.agents import initialize_agent\n",
    "\n",
    "zero_shot_agent = initialize_agent(\n",
    "    agent = \"zero-shot-react-description\",\n",
    "    tools = tools,\n",
    "    llm = llm,\n",
    "    verbose = True,\n",
    "    max_iterations = 3\n",
    ")"
   ]
  },
  {
   "cell_type": "code",
   "execution_count": 10,
   "id": "fb28ddc7-01ac-4864-987f-19dc3b8a2e51",
   "metadata": {
    "colab": {
     "base_uri": "https://localhost:8080/"
    },
    "executionInfo": {
     "elapsed": 2410,
     "status": "ok",
     "timestamp": 1731434731215,
     "user": {
      "displayName": "킹승영",
      "userId": "12420221722795178737"
     },
     "user_tz": -540
    },
    "id": "fb28ddc7-01ac-4864-987f-19dc3b8a2e51",
    "outputId": "ee03746f-ac32-4a09-e3d2-d6e0c4235255"
   },
   "outputs": [
    {
     "name": "stderr",
     "output_type": "stream",
     "text": [
      "<ipython-input-10-5752dfb12985>:1: LangChainDeprecationWarning: The method `Chain.__call__` was deprecated in langchain 0.1.0 and will be removed in 1.0. Use :meth:`~invoke` instead.\n",
      "  zero_shot_agent(\"what is (4.5*2.1)^2.2?\")\n"
     ]
    },
    {
     "name": "stdout",
     "output_type": "stream",
     "text": [
      "\n",
      "\n",
      "\u001b[1m> Entering new AgentExecutor chain...\u001b[0m\n",
      "\u001b[32;1m\u001b[1;3mI should use the calculator tool to solve this math problem.\n",
      "Action: Calculator\n",
      "Action Input: (4.5*2.1)^2.2\u001b[0m\n",
      "Observation: \u001b[36;1m\u001b[1;3mAnswer: 139.94261298333066\u001b[0m\n",
      "Thought:\u001b[32;1m\u001b[1;3mI now know the final answer\n",
      "Final Answer: 139.94261298333066\u001b[0m\n",
      "\n",
      "\u001b[1m> Finished chain.\u001b[0m\n"
     ]
    },
    {
     "data": {
      "text/plain": [
       "{'input': 'what is (4.5*2.1)^2.2?', 'output': '139.94261298333066'}"
      ]
     },
     "execution_count": 10,
     "metadata": {},
     "output_type": "execute_result"
    }
   ],
   "source": [
    "zero_shot_agent(\"what is (4.5*2.1)^2.2?\")"
   ]
  },
  {
   "cell_type": "code",
   "execution_count": 11,
   "id": "ba321eec-7b7d-4eb5-8a3d-ed79e7442578",
   "metadata": {
    "colab": {
     "base_uri": "https://localhost:8080/"
    },
    "executionInfo": {
     "elapsed": 2423,
     "status": "ok",
     "timestamp": 1731434733634,
     "user": {
      "displayName": "킹승영",
      "userId": "12420221722795178737"
     },
     "user_tz": -540
    },
    "id": "ba321eec-7b7d-4eb5-8a3d-ed79e7442578",
    "outputId": "2c050741-9d08-4471-b72a-2c9fdb2a69ca"
   },
   "outputs": [
    {
     "name": "stdout",
     "output_type": "stream",
     "text": [
      "\n",
      "\n",
      "\u001b[1m> Entering new AgentExecutor chain...\u001b[0m\n",
      "\u001b[32;1m\u001b[1;3mWe need to calculate the total number of apples by adding Mary's apples to the apples in Giorgio's boxes.\n",
      "Action: Calculator\n",
      "Action Input: 4 + 2.5 * 8\u001b[0m\n",
      "Observation: \u001b[36;1m\u001b[1;3mAnswer: 24.0\u001b[0m\n",
      "Thought:\u001b[32;1m\u001b[1;3mThe total number of apples is 24.\n",
      "Final Answer: 24 apples.\u001b[0m\n",
      "\n",
      "\u001b[1m> Finished chain.\u001b[0m\n"
     ]
    },
    {
     "data": {
      "text/plain": [
       "{'input': 'if Mary has four apples and Giorgio brings two and a half apple boxes (apple box contains eight apples), how many apples do we have?',\n",
       " 'output': '24 apples.'}"
      ]
     },
     "execution_count": 11,
     "metadata": {},
     "output_type": "execute_result"
    }
   ],
   "source": [
    "zero_shot_agent(\"if Mary has four apples and Giorgio brings two and a half apple \"\n",
    "                \"boxes (apple box contains eight apples), how many apples do we \"\n",
    "                \"have?\")"
   ]
  },
  {
   "cell_type": "markdown",
   "id": "566b646a-5a41-4ff1-b8de-360e0c2f304b",
   "metadata": {
    "id": "566b646a-5a41-4ff1-b8de-360e0c2f304b"
   },
   "source": [
    "- tool 리스트 목록에 여러 가지를 추가할 수 있음.\n",
    "- 그래서 agent가 tool 목록에서 적절한 걸 선택해 실행함."
   ]
  },
  {
   "cell_type": "markdown",
   "id": "24284190-0347-43ec-9196-b1c82f4f6723",
   "metadata": {
    "id": "24284190-0347-43ec-9196-b1c82f4f6723"
   },
   "source": [
    "### zeroshot react\n",
    "ReAct 프롬프팅? 추론과 행동의 결합\n",
    "명시적 추론 및 행동 관리 / 복잡한 문제 해결 / *에이전트의 투명성 향상\n",
    "* agent는 각 도구를 사용하는 과정이 명시적으로 관리되지 않음\n",
    "\n",
    "ReAct: agent를 사용하는 방법 중 하나로 일반적인 에이전트의 기능을 확장하여, 더 복잡한 문제를 단계적으로 해결할 수 있음\n",
    "> 추론과 행동을 기반으로 함.\n",
    "- 사용자 쿼리 수신: 사용자로부터의 질문이나 요청을 받음\n",
    "- 의도 분류: ReAct 프롬프팅을 사용하여 사용자의 의도를 정확하게 분류\n",
    "- 외부 API 및 내부 지식 기반 조회: 사용자의 요청에 따라 필요한 정보를 검색하기 위해 외부 서비스나 내부 데이터베이스를 조회\n",
    "- 적절한 응답 생성: 검색된 정보를 기반으로 사용자의 질문에 대한 적절한 응답을 생성"
   ]
  },
  {
   "cell_type": "code",
   "execution_count": 42,
   "id": "8060d0a3-7c17-495a-a2fe-5563d9588c4a",
   "metadata": {
    "colab": {
     "base_uri": "https://localhost:8080/",
     "height": 400
    },
    "executionInfo": {
     "elapsed": 301,
     "status": "error",
     "timestamp": 1731434277790,
     "user": {
      "displayName": "킹승영",
      "userId": "12420221722795178737"
     },
     "user_tz": -540
    },
    "id": "8060d0a3-7c17-495a-a2fe-5563d9588c4a",
    "outputId": "bad948af-fe6d-43b6-e767-c427864b4a9d"
   },
   "outputs": [
    {
     "ename": "ImportError",
     "evalue": "cannot import name 'SQLDatabaseChain' from 'langchain.sql_database' (/usr/local/lib/python3.10/dist-packages/langchain/sql_database.py)",
     "output_type": "error",
     "traceback": [
      "\u001b[0;31m---------------------------------------------------------------------------\u001b[0m",
      "\u001b[0;31mImportError\u001b[0m                               Traceback (most recent call last)",
      "\u001b[0;32m<ipython-input-42-ef3e31615fbf>\u001b[0m in \u001b[0;36m<cell line: 6>\u001b[0;34m()\u001b[0m\n\u001b[1;32m      4\u001b[0m )\n\u001b[1;32m      5\u001b[0m \u001b[0;34m\u001b[0m\u001b[0m\n\u001b[0;32m----> 6\u001b[0;31m \u001b[0;32mfrom\u001b[0m \u001b[0mlangchain\u001b[0m\u001b[0;34m.\u001b[0m\u001b[0msql_database\u001b[0m \u001b[0;32mimport\u001b[0m \u001b[0mSQLDatabase\u001b[0m\u001b[0;34m,\u001b[0m \u001b[0mSQLDatabaseChain\u001b[0m\u001b[0;34m\u001b[0m\u001b[0;34m\u001b[0m\u001b[0m\n\u001b[0m\u001b[1;32m      7\u001b[0m \u001b[0;34m\u001b[0m\u001b[0m\n\u001b[1;32m      8\u001b[0m \u001b[0mdb\u001b[0m \u001b[0;34m=\u001b[0m \u001b[0mSQLDatabase\u001b[0m\u001b[0;34m.\u001b[0m\u001b[0mfrom_uri\u001b[0m\u001b[0;34m(\u001b[0m\u001b[0;34m\"sqlite:///your_database.db\"\u001b[0m\u001b[0;34m)\u001b[0m  \u001b[0;31m# 데이터베이스 URI 설정\u001b[0m\u001b[0;34m\u001b[0m\u001b[0;34m\u001b[0m\u001b[0m\n",
      "\u001b[0;31mImportError\u001b[0m: cannot import name 'SQLDatabaseChain' from 'langchain.sql_database' (/usr/local/lib/python3.10/dist-packages/langchain/sql_database.py)",
      "",
      "\u001b[0;31m---------------------------------------------------------------------------\u001b[0;32m\nNOTE: If your import is failing due to a missing package, you can\nmanually install dependencies using either !pip or !apt.\n\nTo view examples of installing some common dependencies, click the\n\"Open Examples\" button below.\n\u001b[0;31m---------------------------------------------------------------------------\u001b[0m\n"
     ]
    }
   ],
   "source": [
    "tools = load_tools(\n",
    "    [\"llm-math\"],\n",
    "    llm=llm\n",
    ")\n",
    "\n",
    "from langchain.sql_database import SQLDatabase, SQLDatabaseChain\n",
    "\n",
    "db = SQLDatabase.from_uri(\"sqlite:///.db\")  # 데이터베이스 URI 설정\n",
    "sql_tool = SQLDatabaseChain(llm=llm, database=db)\n",
    "\n",
    "# add our custom SQL db tool\n",
    "tools.append(sql_tool)"
   ]
  },
  {
   "cell_type": "markdown",
   "id": "c333af77-b130-4931-8d2d-3ae08f21511e",
   "metadata": {
    "id": "c333af77-b130-4931-8d2d-3ae08f21511e"
   },
   "source": [
    "LangChain docstores 를 이용하여 웹 페이지의 정보 이용 가능\n",
    "- Search: 검색\n",
    "- Lookup: 청크 찾음"
   ]
  },
  {
   "cell_type": "code",
   "execution_count": 12,
   "id": "Wra5u_r3h5GW",
   "metadata": {
    "executionInfo": {
     "elapsed": 4478,
     "status": "ok",
     "timestamp": 1731434740445,
     "user": {
      "displayName": "킹승영",
      "userId": "12420221722795178737"
     },
     "user_tz": -540
    },
    "id": "Wra5u_r3h5GW"
   },
   "outputs": [],
   "source": [
    "! pip install wikipedia -q"
   ]
  },
  {
   "cell_type": "code",
   "execution_count": 13,
   "id": "be4b77b6-02b3-441e-8b04-08248c419ea3",
   "metadata": {
    "colab": {
     "base_uri": "https://localhost:8080/"
    },
    "executionInfo": {
     "elapsed": 5,
     "status": "ok",
     "timestamp": 1731434740445,
     "user": {
      "displayName": "킹승영",
      "userId": "12420221722795178737"
     },
     "user_tz": -540
    },
    "id": "be4b77b6-02b3-441e-8b04-08248c419ea3",
    "outputId": "ec57fed4-f8e2-4814-84a5-740431ee1901"
   },
   "outputs": [
    {
     "name": "stderr",
     "output_type": "stream",
     "text": [
      "<ipython-input-13-e54d53fb71ed>:4: LangChainDeprecationWarning: The class `DocstoreExplorer` was deprecated in LangChain 0.1.0 and will be removed in 1.0\n",
      "  docstore=DocstoreExplorer(Wikipedia())\n"
     ]
    }
   ],
   "source": [
    "from langchain import Wikipedia\n",
    "from langchain.agents.react.base import DocstoreExplorer\n",
    "\n",
    "docstore=DocstoreExplorer(Wikipedia())\n",
    "tools = [\n",
    "    Tool(\n",
    "        name=\"Search\",\n",
    "        func=docstore.search,\n",
    "        description='search wikipedia'\n",
    "    ),\n",
    "    Tool(\n",
    "        name=\"Lookup\",\n",
    "        func=docstore.lookup,\n",
    "        description='lookup a term in wikipedia'\n",
    "    )\n",
    "]"
   ]
  },
  {
   "cell_type": "code",
   "execution_count": 14,
   "id": "e2373c37-4aaf-49b8-bcc6-449fa762181d",
   "metadata": {
    "executionInfo": {
     "elapsed": 4,
     "status": "ok",
     "timestamp": 1731434740445,
     "user": {
      "displayName": "킹승영",
      "userId": "12420221722795178737"
     },
     "user_tz": -540
    },
    "id": "e2373c37-4aaf-49b8-bcc6-449fa762181d"
   },
   "outputs": [],
   "source": [
    "# docstore_agent = initialize_agent(\n",
    "#     tools,\n",
    "#     llm,\n",
    "#     agent=\"react-docstore\",\n",
    "#     verbose=True,\n",
    "#     max_iterations=3\n",
    "# )\n",
    "\n",
    "docstore_agent = initialize_agent(\n",
    "    tools,\n",
    "    llm,\n",
    "    agent=\"react-docstore\",\n",
    "    verbose=True,\n",
    "    max_iterations=3,\n",
    "    handle_parsing_errors=True  # 이 부분을 추가하여 오류 발생 시 자동으로 재시도\n",
    ")"
   ]
  },
  {
   "cell_type": "code",
   "execution_count": 15,
   "id": "181c6d6b-4aca-4a19-8628-99f5b45dc2dc",
   "metadata": {
    "colab": {
     "base_uri": "https://localhost:8080/"
    },
    "executionInfo": {
     "elapsed": 8402,
     "status": "ok",
     "timestamp": 1731434748844,
     "user": {
      "displayName": "킹승영",
      "userId": "12420221722795178737"
     },
     "user_tz": -540
    },
    "id": "181c6d6b-4aca-4a19-8628-99f5b45dc2dc",
    "outputId": "b152d904-3697-44ab-9b65-a0bc267b0ba6"
   },
   "outputs": [
    {
     "name": "stdout",
     "output_type": "stream",
     "text": [
      "\n",
      "\n",
      "\u001b[1m> Entering new AgentExecutor chain...\u001b[0m\n",
      "\u001b[32;1m\u001b[1;3mThought: I need to search for Archimedes' last words to find out what they were.\n",
      "Action: Search[Archimedes' last words]\u001b[0m\n",
      "Observation: \u001b[36;1m\u001b[1;3mA person's last words, their final articulated words stated prior to death or as death approaches, are often recorded because of the decedent's fame, but sometimes because of interest in the statement itself. (People dying of illness are frequently inarticulate at the end, and in such cases their actual last utterances may not be recorded or considered very important.) Last words may be recorded accurately, or, for a variety of reasons, may not. Reasons can include simple error or deliberate intent. Even if reported wrongly, putative last words can constitute an important part of the perceived historical records or demonstration of cultural attitudes toward death at the time.\n",
      "Charles Darwin, for example, was reported to have disavowed his theory of evolution in favor of traditional religious faith at his death. This widely disseminated report served the interests of those who opposed Darwin's theory on religious grounds. However, the putative witness had not been at Darwin's deathbed or seen him at any time near the end of his life.\n",
      "Both Eastern and Western cultural traditions ascribe special significance to words uttered at or near death, but the form and content of reported last words may depend on cultural context. There is a tradition in Hindu and Buddhist cultures of an expectation of a meaningful farewell statement; Zen monks by long custom are expected to compose a poem on the spot and recite it with their last breath. In Western culture particular attention has been paid to last words which demonstrate deathbed salvation – the repentance of sins and affirmation of faith.\u001b[0m\n",
      "Thought:\u001b[32;1m\u001b[1;3mThe search did not provide specific information about Archimedes' last words. I need to search directly for Archimedes' last words.\n",
      "Action: Search[Archimedes' last words]\u001b[0m\n",
      "Observation: \u001b[36;1m\u001b[1;3mA person's last words, their final articulated words stated prior to death or as death approaches, are often recorded because of the decedent's fame, but sometimes because of interest in the statement itself. (People dying of illness are frequently inarticulate at the end, and in such cases their actual last utterances may not be recorded or considered very important.) Last words may be recorded accurately, or, for a variety of reasons, may not. Reasons can include simple error or deliberate intent. Even if reported wrongly, putative last words can constitute an important part of the perceived historical records or demonstration of cultural attitudes toward death at the time.\n",
      "Charles Darwin, for example, was reported to have disavowed his theory of evolution in favor of traditional religious faith at his death. This widely disseminated report served the interests of those who opposed Darwin's theory on religious grounds. However, the putative witness had not been at Darwin's deathbed or seen him at any time near the end of his life.\n",
      "Both Eastern and Western cultural traditions ascribe special significance to words uttered at or near death, but the form and content of reported last words may depend on cultural context. There is a tradition in Hindu and Buddhist cultures of an expectation of a meaningful farewell statement; Zen monks by long custom are expected to compose a poem on the spot and recite it with their last breath. In Western culture particular attention has been paid to last words which demonstrate deathbed salvation – the repentance of sins and affirmation of faith.\u001b[0m\n",
      "Thought:\u001b[32;1m\u001b[1;3mThe search did not provide specific information about Archimedes' last words. I will try a different search query to find the specific last words of Archimedes.\n",
      "Action: Search[Archimedes' famous last words]\u001b[0m\n",
      "Observation: \u001b[36;1m\u001b[1;3mA person's last words, their final articulated words stated prior to death or as death approaches, are often recorded because of the decedent's fame, but sometimes because of interest in the statement itself. (People dying of illness are frequently inarticulate at the end, and in such cases their actual last utterances may not be recorded or considered very important.) Last words may be recorded accurately, or, for a variety of reasons, may not. Reasons can include simple error or deliberate intent. Even if reported wrongly, putative last words can constitute an important part of the perceived historical records or demonstration of cultural attitudes toward death at the time.\n",
      "Charles Darwin, for example, was reported to have disavowed his theory of evolution in favor of traditional religious faith at his death. This widely disseminated report served the interests of those who opposed Darwin's theory on religious grounds. However, the putative witness had not been at Darwin's deathbed or seen him at any time near the end of his life.\n",
      "Both Eastern and Western cultural traditions ascribe special significance to words uttered at or near death, but the form and content of reported last words may depend on cultural context. There is a tradition in Hindu and Buddhist cultures of an expectation of a meaningful farewell statement; Zen monks by long custom are expected to compose a poem on the spot and recite it with their last breath. In Western culture particular attention has been paid to last words which demonstrate deathbed salvation – the repentance of sins and affirmation of faith.\u001b[0m\n",
      "Thought:\u001b[32;1m\u001b[1;3m\u001b[0m\n",
      "\n",
      "\u001b[1m> Finished chain.\u001b[0m\n"
     ]
    },
    {
     "data": {
      "text/plain": [
       "{'input': \"What were Archimedes' last words?\",\n",
       " 'output': 'Agent stopped due to iteration limit or time limit.'}"
      ]
     },
     "execution_count": 15,
     "metadata": {},
     "output_type": "execute_result"
    }
   ],
   "source": [
    "docstore_agent(\"What were Archimedes' last words?\")"
   ]
  },
  {
   "cell_type": "markdown",
   "id": "c4b170e5-8ea1-4634-bcf5-5922cee1eaab",
   "metadata": {
    "id": "c4b170e5-8ea1-4634-bcf5-5922cee1eaab"
   },
   "source": [
    "#### 검색을 통한 자체 질문 self-ask-with-search\n",
    "- 최종 답변을 얻기 위해 필요한 만큼 검색을 수행하고 후속 질문을 함\n",
    "- serp_api_key 사용 (발급 필요)\n",
    "- 사용자가 질문하면, 이 질문에 답변하기 위해 일어나는 프로세스에 대해 알려줌\n",
    "  \n",
    "  > 언어 모델이 어떻게 추론하고 행동하여 답변을 도출하는지를 보여주는 예입니다. 이 과정은 모델이 복잡한 질문에 대한 답변을 도출하기 위해 논리적인 추론 단계를 거치는 것을 포함합니다.\n"
   ]
  },
  {
   "cell_type": "code",
   "execution_count": null,
   "id": "6496eed0-393b-4f83-bd89-8f7dc0a5366c",
   "metadata": {
    "executionInfo": {
     "elapsed": 1658,
     "status": "aborted",
     "timestamp": 1731433902906,
     "user": {
      "displayName": "킹승영",
      "userId": "12420221722795178737"
     },
     "user_tz": -540
    },
    "id": "6496eed0-393b-4f83-bd89-8f7dc0a5366c"
   },
   "outputs": [],
   "source": []
  }
 ],
 "metadata": {
  "colab": {
   "provenance": []
  },
  "kernelspec": {
   "display_name": "Python 3 (ipykernel)",
   "language": "python",
   "name": "python3"
  },
  "language_info": {
   "codemirror_mode": {
    "name": "ipython",
    "version": 3
   },
   "file_extension": ".py",
   "mimetype": "text/x-python",
   "name": "python",
   "nbconvert_exporter": "python",
   "pygments_lexer": "ipython3",
   "version": "3.7.16"
  }
 },
 "nbformat": 4,
 "nbformat_minor": 5
}
