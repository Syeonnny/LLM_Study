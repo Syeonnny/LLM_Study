{
 "cells": [
  {
   "cell_type": "code",
   "execution_count": 5,
   "id": "1c773d84",
   "metadata": {},
   "outputs": [],
   "source": [
    "from langchain_openai import ChatOpenAI\n",
    "from langchain.chains import ConversationChain\n",
    "import os"
   ]
  },
  {
   "cell_type": "code",
   "execution_count": 6,
   "id": "f209333c",
   "metadata": {},
   "outputs": [],
   "source": [
    "OPENAI_API_KEY = os.environ.get('OPENAI_API_KEY')"
   ]
  },
  {
   "cell_type": "code",
   "execution_count": 7,
   "id": "193e2c6f",
   "metadata": {},
   "outputs": [],
   "source": [
    "openai = ChatOpenAI(\n",
    "model_name = 'gpt-3.5-turbo',\n",
    "api_key = OPENAI_API_KEY)"
   ]
  },
  {
   "cell_type": "code",
   "execution_count": 8,
   "id": "8648b8f1",
   "metadata": {},
   "outputs": [
    {
     "name": "stdout",
     "output_type": "stream",
     "text": [
      "The following is a friendly conversation between a human and an AI. The AI is talkative and provides lots of specific details from its context. If the AI does not know the answer to a question, it truthfully says it does not know.\n",
      "\n",
      "Current conversation:\n",
      "{history}\n",
      "Human: {input}\n",
      "AI:\n"
     ]
    }
   ],
   "source": [
    "# ConversationChain 인스턴스를 생성 llm 모델 지정.\n",
    "# conversaion.prompt.template: 대화의 템플릿을 지정하는 부분을 나타냄 \n",
    "\n",
    "conversation = ConversationChain(llm = openai)\n",
    "print(conversation.prompt.template)"
   ]
  },
  {
   "cell_type": "markdown",
   "id": "da323d34",
   "metadata": {},
   "source": [
    "- {history}: 현재 세션에서 지금까지 나눈 대화로 대화의 연속성을 위해 필요함. 지금까지는 한번의 프롬프트만 다룸.\n",
    "- {input}: 프롬프트"
   ]
  },
  {
   "cell_type": "code",
   "execution_count": 16,
   "id": "3ddd81d5",
   "metadata": {},
   "outputs": [
    {
     "data": {
      "text/plain": [
       "{'input': 'Great, and you?',\n",
       " 'history': 'Human: Good morning, AI!\\nAI: Good morning! How are you today?',\n",
       " 'response': \"I'm functioning optimally, thank you for asking. I've been analyzing data and providing information to users like you. What can I help you with today?\"}"
      ]
     },
     "execution_count": 16,
     "metadata": {},
     "output_type": "execute_result"
    }
   ],
   "source": [
    "from langchain.chains.conversation.memory import ConversationBufferMemory\n",
    "\n",
    "# memory: 대화 내용을 저장하는 메모리 버퍼 지정 가능\n",
    "\n",
    "conversation = ConversationChain(\n",
    "    llm = openai,\n",
    "    memory = ConversationBufferMemory() # 메모리를 추가\n",
    ")\n",
    "conversation.invoke(\"Good morning, AI!\")\n",
    "conversation.invoke(\"Great, and you?\")"
   ]
  },
  {
   "cell_type": "code",
   "execution_count": 17,
   "id": "0f6dd344",
   "metadata": {},
   "outputs": [
    {
     "data": {
      "text/plain": [
       "{'input': 'Which data source types could be used to give context to the model?',\n",
       " 'history': \"Human: Good morning, AI!\\nAI: Good morning! How are you today?\\nHuman: Great, and you?\\nAI: I'm functioning optimally, thank you for asking. I've been analyzing data and providing information to users like you. What can I help you with today?\\nHuman: I just want to analyze the different possibilities. What can you think of?\\nAI: There are countless possibilities to consider depending on the context you're referring to. For example, in a business context, you could analyze different marketing strategies, financial forecasts, or operational efficiencies. In a personal context, you could consider different career paths, travel destinations, or relationship decisions. The possibilities are truly endless! If you have a specific scenario in mind, feel free to share and I can help you analyze the different possibilities.\",\n",
       " 'response': \"There are several data source types that can be used to give context to a model. Some common types include structured data (such as databases or spreadsheets), unstructured data (such as text documents or images), streaming data (such as real-time sensor data), and external data sources (such as APIs or third-party databases). Each type of data source can provide valuable context to help the model make more accurate predictions or insights. It's important to carefully consider which data sources to use based on the specific goals of the model and the nature of the problem being addressed. Let me know if you need more information on a specific type of data source!\"}"
      ]
     },
     "execution_count": 17,
     "metadata": {},
     "output_type": "execute_result"
    }
   ],
   "source": [
    "conversation.invoke(\"I just want to analyze the different possibilities. What can you think of?\")\n",
    "conversation.invoke(\"Which data source types could be used to give context to the model?\")"
   ]
  },
  {
   "cell_type": "code",
   "execution_count": 18,
   "id": "3a51215c",
   "metadata": {},
   "outputs": [
    {
     "name": "stdout",
     "output_type": "stream",
     "text": [
      "Human: Good morning, AI!\n",
      "AI: Good morning! How are you today?\n",
      "Human: Great, and you?\n",
      "AI: I'm functioning optimally, thank you for asking. I've been analyzing data and providing information to users like you. What can I help you with today?\n",
      "Human: I just want to analyze the different possibilities. What can you think of?\n",
      "AI: There are countless possibilities to consider depending on the context you're referring to. For example, in a business context, you could analyze different marketing strategies, financial forecasts, or operational efficiencies. In a personal context, you could consider different career paths, travel destinations, or relationship decisions. The possibilities are truly endless! If you have a specific scenario in mind, feel free to share and I can help you analyze the different possibilities.\n",
      "Human: Which data source types could be used to give context to the model?\n",
      "AI: There are several data source types that can be used to give context to a model. Some common types include structured data (such as databases or spreadsheets), unstructured data (such as text documents or images), streaming data (such as real-time sensor data), and external data sources (such as APIs or third-party databases). Each type of data source can provide valuable context to help the model make more accurate predictions or insights. It's important to carefully consider which data sources to use based on the specific goals of the model and the nature of the problem being addressed. Let me know if you need more information on a specific type of data source!\n"
     ]
    }
   ],
   "source": [
    "print(conversation.memory.buffer)"
   ]
  },
  {
   "cell_type": "markdown",
   "id": "6b175cf1",
   "metadata": {},
   "source": [
    "### summary 가능"
   ]
  },
  {
   "cell_type": "code",
   "execution_count": 11,
   "id": "cac34838",
   "metadata": {},
   "outputs": [],
   "source": [
    "from langchain.chains.conversation.memory import ConversationSummaryMemory\n",
    "\n",
    "# ConversationSummaryMemory: 메모리 사용량을 줄이면서도 대화의 중요한 부분을 기억할 수 있게 함\n",
    "\n",
    "conversation = ConversationChain(\n",
    "    llm = openai,\n",
    "    memory = ConversationSummaryMemory(llm = openai) # 요약메모리 추가, 왜 LLM이 필요할까?\n",
    ")"
   ]
  },
  {
   "cell_type": "code",
   "execution_count": 12,
   "id": "4634140f",
   "metadata": {},
   "outputs": [
    {
     "name": "stdout",
     "output_type": "stream",
     "text": [
      "Progressively summarize the lines of conversation provided, adding onto the previous summary returning a new summary.\n",
      "\n",
      "EXAMPLE\n",
      "Current summary:\n",
      "The human asks what the AI thinks of artificial intelligence. The AI thinks artificial intelligence is a force for good.\n",
      "\n",
      "New lines of conversation:\n",
      "Human: Why do you think artificial intelligence is a force for good?\n",
      "AI: Because artificial intelligence will help humans reach their full potential.\n",
      "\n",
      "New summary:\n",
      "The human asks what the AI thinks of artificial intelligence. The AI thinks artificial intelligence is a force for good because it will help humans reach their full potential.\n",
      "END OF EXAMPLE\n",
      "\n",
      "Current summary:\n",
      "{summary}\n",
      "\n",
      "New lines of conversation:\n",
      "{new_lines}\n",
      "\n",
      "New summary:\n"
     ]
    }
   ],
   "source": [
    "print(conversation.memory.prompt.template)"
   ]
  },
  {
   "cell_type": "code",
   "execution_count": 13,
   "id": "31621ebf",
   "metadata": {},
   "outputs": [
    {
     "name": "stdout",
     "output_type": "stream",
     "text": [
      "The human greets the AI with \"Good morning.\" The AI responds with a friendly \"Good morning! How are you today?\" The human expresses interest in exploring the potential of integrating Large Language Models with external knowledge. The AI finds this topic fascinating, explaining how integrating external knowledge can enhance the capabilities of models like GPT-3 and make them more useful in real-world applications. The AI offers various ways to incorporate external knowledge and expresses excitement about the potential for improving AI systems. The human expresses a desire to analyze the different possibilities, prompting the AI to suggest using knowledge graphs, databases, pre-trained embeddings, and external sources to enhance AI systems. The AI mentions several data source types that can provide context to the model, including structured knowledge graphs, relational databases, unstructured text data, pre-trained word embeddings, domain-specific ontologies, external APIs, and real-time data feeds, to improve the performance and accuracy of Large Language Models.\n"
     ]
    }
   ],
   "source": [
    "conversation.invoke(\"Good morning AI!\")\n",
    "conversation.invoke(\"My interest here is to explore the potential of integrating Large Language Models with external knowledge\")\n",
    "conversation.invoke(\"I just want to analyze the different possibilities. What can you think of?\")\n",
    "conversation.invoke(\"Which data source types could be used to give context to the model?\")\n",
    "print(conversation.memory.buffer)"
   ]
  },
  {
   "cell_type": "markdown",
   "id": "c356c947",
   "metadata": {},
   "source": [
    "- ConversationSummaryBufferMemory: 최근 대화는 그대로 저장하고, 이전 대화는 요약해서 저장"
   ]
  },
  {
   "cell_type": "markdown",
   "id": "a4d10a9c",
   "metadata": {},
   "source": [
    "#### 둘 다 conversation 변수에 저장해두었기 때문에 헷갈릴 수 있겠지만, summary buffer 참고"
   ]
  }
 ],
 "metadata": {
  "kernelspec": {
   "display_name": "Python 3 (ipykernel)",
   "language": "python",
   "name": "python3"
  },
  "language_info": {
   "codemirror_mode": {
    "name": "ipython",
    "version": 3
   },
   "file_extension": ".py",
   "mimetype": "text/x-python",
   "name": "python",
   "nbconvert_exporter": "python",
   "pygments_lexer": "ipython3",
   "version": "3.9.13"
  }
 },
 "nbformat": 4,
 "nbformat_minor": 5
}
