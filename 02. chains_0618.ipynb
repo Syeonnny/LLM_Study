{
 "cells": [
  {
   "cell_type": "code",
   "execution_count": null,
   "id": "f0e8f32a",
   "metadata": {},
   "outputs": [],
   "source": [
    "### 241112 수정 "
   ]
  },
  {
   "cell_type": "code",
   "execution_count": 1,
   "id": "1ad10f98",
   "metadata": {},
   "outputs": [],
   "source": [
    "from langchain_openai import ChatOpenAI\n",
    "from langchain.chains import ConversationChain\n",
    "import os"
   ]
  },
  {
   "cell_type": "code",
   "execution_count": 2,
   "id": "e1a0398b",
   "metadata": {},
   "outputs": [],
   "source": [
    "OPENAI_API_KEY = os.environ.get('OPENAI_API_KEY')"
   ]
  },
  {
   "cell_type": "markdown",
   "id": "e93b6e70",
   "metadata": {},
   "source": [
    "### chain이란?\n",
    "- 한 task의 출력이 다음 task의 input이 됨 \n",
    "- chain 종류 3가지. (어떤 chain을 구성할지에 대한)\n",
    "  - utility\n",
    "  - generic \n",
    "  - combine document\n",
    " "
   ]
  },
  {
   "cell_type": "markdown",
   "id": "721594a1",
   "metadata": {},
   "source": [
    "#### ex. prompt에 수식을 계산해달라고 하면? \n",
    "- 계산을 실제로 하는게 아니라 패턴을 학습하는 것임.\n",
    "- 여러 계산 수식을 하는 원리가 학습되어 있음. \n",
    "- lstm으로 계산을 예측함. \n",
    "- 플러그인>수식을 생성>플러그인 사용>답>llm 답변 생성"
   ]
  },
  {
   "cell_type": "markdown",
   "id": "0e659765",
   "metadata": {},
   "source": [
    "### 1. utility chain"
   ]
  },
  {
   "cell_type": "code",
   "execution_count": 3,
   "id": "5e128d96",
   "metadata": {},
   "outputs": [],
   "source": [
    "# LLMMathChain: 수학 계산을 위한 Utility Chain\n",
    "\n",
    "from langchain_openai import ChatOpenAI\n",
    "from langchain.chains import LLMMathChain\n",
    "openai = ChatOpenAI(\n",
    "    model_name = 'gpt-3.5-turbo',\n",
    "    temperature = 0, \n",
    "    api_key = OPENAI_API_KEY\n",
    ")"
   ]
  },
  {
   "cell_type": "code",
   "execution_count": 4,
   "id": "0d82d9a0",
   "metadata": {},
   "outputs": [
    {
     "name": "stdout",
     "output_type": "stream",
     "text": [
      "\n",
      "\n",
      "\u001b[1m> Entering new LLMMathChain chain...\u001b[0m\n",
      "What is 13 raised to the .3432 power?\u001b[32;1m\u001b[1;3m```text\n",
      "13 ** 0.3432\n",
      "```\n",
      "...numexpr.evaluate(\"13 ** 0.3432\")...\n",
      "\u001b[0m\n",
      "Answer: \u001b[33;1m\u001b[1;3m2.4116004626599237\u001b[0m\n",
      "\u001b[1m> Finished chain.\u001b[0m\n"
     ]
    },
    {
     "data": {
      "text/plain": [
       "{'question': 'What is 13 raised to the .3432 power?',\n",
       " 'answer': 'Answer: 2.4116004626599237'}"
      ]
     },
     "execution_count": 4,
     "metadata": {},
     "output_type": "execute_result"
    }
   ],
   "source": [
    "llm_math = LLMMathChain.from_llm(openai, verbose = True) # verbose 상세 로깅 활성화 \n",
    "llm_math.invoke(\"What is 13 raised to the .3432 power?\")"
   ]
  },
  {
   "cell_type": "code",
   "execution_count": 5,
   "id": "79fbbde5",
   "metadata": {},
   "outputs": [
    {
     "name": "stdout",
     "output_type": "stream",
     "text": [
      "Translate a math problem into a expression that can be executed using Python's numexpr library. Use the output of running this code to answer the question.\n",
      "\n",
      "Question: ${{Question with math problem.}}\n",
      "```text\n",
      "${{single line mathematical expression that solves the problem}}\n",
      "```\n",
      "...numexpr.evaluate(text)...\n",
      "```output\n",
      "${{Output of running the code}}\n",
      "```\n",
      "Answer: ${{Answer}}\n",
      "\n",
      "Begin.\n",
      "\n",
      "Question: What is 37593 * 67?\n",
      "```text\n",
      "37593 * 67\n",
      "```\n",
      "...numexpr.evaluate(\"37593 * 67\")...\n",
      "```output\n",
      "2518731\n",
      "```\n",
      "Answer: 2518731\n",
      "\n",
      "Question: 37593^(1/5)\n",
      "```text\n",
      "37593**(1/5)\n",
      "```\n",
      "...numexpr.evaluate(\"37593**(1/5)\")...\n",
      "```output\n",
      "8.222831614237718\n",
      "```\n",
      "Answer: 8.222831614237718\n",
      "\n",
      "Question: {question}\n",
      "\n"
     ]
    }
   ],
   "source": [
    "print(llm_math.prompt.template)"
   ]
  },
  {
   "cell_type": "markdown",
   "id": "d2c9fa06",
   "metadata": {},
   "source": [
    "### 2. generic chain"
   ]
  },
  {
   "cell_type": "code",
   "execution_count": null,
   "id": "1e67fb8b",
   "metadata": {},
   "outputs": [],
   "source": [
    "import re"
   ]
  },
  {
   "cell_type": "code",
   "execution_count": 7,
   "id": "0157a596",
   "metadata": {},
   "outputs": [],
   "source": [
    "# 정규식을 이용해 주어진 텍스트에서 반복되는 줄바꿈을 하나로 변환하고, 탭을 스페이스로 변환하는 함수를 작성\n",
    "\n",
    "def transform_func(inputs: dict) -> dict:\n",
    "    text = inputs[\"text\"]\n",
    "    # replace multiple new lines and multiple spaces with a single one\n",
    "    text = re.sub(r'(\\r\\n|\\r|\\n){2,}', r'\\n', text) # 여러 개의 줄바꿈(\\r\\n, \\r, \\n)이 2개 이상 연속되면, 이를 하나의 \\n으로 대체\n",
    "    text = re.sub(r'[ \\t]+', ' ', text) # 여러 개의 공백 또는 탭 문자가 연속되면, 이를 하나의 공백으로 대체\n",
    "    return {\"output_text\": text}"
   ]
  },
  {
   "cell_type": "code",
   "execution_count": 8,
   "id": "5aa5b94c",
   "metadata": {},
   "outputs": [],
   "source": [
    "from langchain.chains import TransformChain\n",
    "\n",
    "# TransformChain: langchain 라이브러리에서 제공하는 변환 체인 객체\n",
    "\n",
    "clean_extra_spaces_chain = TransformChain(input_variables=[\"text\"],\n",
    "                                          output_variables=[\"output_text\"],\n",
    "                                          transform=transform_func\n",
    "                                         )"
   ]
  },
  {
   "cell_type": "code",
   "execution_count": 10,
   "id": "830b6cd3",
   "metadata": {},
   "outputs": [
    {
     "name": "stderr",
     "output_type": "stream",
     "text": [
      "C:\\Users\\82103\\anaconda3\\lib\\site-packages\\langchain_core\\_api\\deprecation.py:119: LangChainDeprecationWarning: The method `Chain.run` was deprecated in langchain 0.1.0 and will be removed in 0.3.0. Use invoke instead.\n",
      "  warn_deprecated(\n"
     ]
    },
    {
     "data": {
      "text/plain": [
       "'A random text with some irregular spacing.\\n Another one here as well.'"
      ]
     },
     "execution_count": 10,
     "metadata": {},
     "output_type": "execute_result"
    }
   ],
   "source": [
    "clean_extra_spaces_chain.run('A random text with some irregular spacing.\\n\\n\\n Another one here as well.')"
   ]
  },
  {
   "cell_type": "code",
   "execution_count": 1,
   "id": "38347476",
   "metadata": {},
   "outputs": [
    {
     "ename": "NameError",
     "evalue": "name 'clean_extra_spaces_chain' is not defined",
     "output_type": "error",
     "traceback": [
      "\u001b[1;31m---------------------------------------------------------------------------\u001b[0m",
      "\u001b[1;31mNameError\u001b[0m                                 Traceback (most recent call last)",
      "\u001b[1;32m~\\AppData\\Local\\Temp\\ipykernel_20788\\3263161661.py\u001b[0m in \u001b[0;36m<module>\u001b[1;34m\u001b[0m\n\u001b[1;32m----> 1\u001b[1;33m \u001b[0mclean_extra_spaces_chain\u001b[0m\u001b[1;33m.\u001b[0m\u001b[0minvoke\u001b[0m\u001b[1;33m(\u001b[0m\u001b[1;34m'A random text with some irregular spacing.\\n\\n\\n Another one here as well.'\u001b[0m\u001b[1;33m)\u001b[0m\u001b[1;33m\u001b[0m\u001b[1;33m\u001b[0m\u001b[0m\n\u001b[0m",
      "\u001b[1;31mNameError\u001b[0m: name 'clean_extra_spaces_chain' is not defined"
     ]
    }
   ],
   "source": [
    "# chain.run 지원 x invoke 사용 \n",
    "clean_extra_spaces_chain.invoke('A random text with some irregular spacing.\\n\\n\\n Another one here as well.')"
   ]
  },
  {
   "cell_type": "markdown",
   "id": "6b6bf5e7",
   "metadata": {},
   "source": [
    "### 3. sequential chain"
   ]
  },
  {
   "cell_type": "markdown",
   "id": "8383712e",
   "metadata": {},
   "source": [
    "- PromptTemplate과 LLMChain을 이용해 원하는 스타일로 텍스트를 변환하는 프롬프트 작성\n",
    "- SequentialChain으로 TransformChain과 LLMChain을 연결"
   ]
  },
  {
   "cell_type": "code",
   "execution_count": 12,
   "id": "c3eb9b4c",
   "metadata": {},
   "outputs": [
    {
     "name": "stderr",
     "output_type": "stream",
     "text": [
      "C:\\Users\\82103\\anaconda3\\lib\\site-packages\\langchain_core\\_api\\deprecation.py:119: LangChainDeprecationWarning: The class `LLMChain` was deprecated in LangChain 0.1.17 and will be removed in 0.3.0. Use RunnableSequence, e.g., `prompt | llm` instead.\n",
      "  warn_deprecated(\n"
     ]
    }
   ],
   "source": [
    "from langchain import PromptTemplate\n",
    "from langchain.chains import LLMChain, SequentialChain\n",
    "\n",
    "# template: 텍스트를 특정 스타일로 바꿔서 표현하도록 지시\n",
    "\n",
    "template = \"\"\"Paraphrase this text:\n",
    "{output_text}\n",
    "In the style of a {style}.\n",
    "Paraphrase: \"\"\""
   ]
  },
  {
   "cell_type": "code",
   "execution_count": 14,
   "id": "588c8736",
   "metadata": {},
   "outputs": [],
   "source": [
    "prompt = PromptTemplate(input_variables = [\"style\", \"output_text\"], template = template) \n",
    "\n",
    "# LLMChain: LLM을 사용하여 주어진 프롬프트를 실행하는 체인\n",
    "\n",
    "style_paraphrase_chain = LLMChain(llm = openai, prompt = prompt,\n",
    "                                  output_key = 'final_output'\n",
    "                                 ) \n",
    "# final_output: 체인의 출력"
   ]
  },
  {
   "cell_type": "code",
   "execution_count": 15,
   "id": "70816303",
   "metadata": {},
   "outputs": [],
   "source": [
    "# 여러 chain 순차적 실행 \n",
    "sequential_chain = SequentialChain(chains = [clean_extra_spaces_chain, # 공백 제거 체인\n",
    "                                             style_paraphrase_chain], # 특정 스타일로 변환하는 체인\n",
    "                                             input_variables = ['text', 'style'], # text, style이 입력 \n",
    "                                             output_variables = ['final_output'] # final_ouptut에 최종 결과 담음\n",
    "                                  )"
   ]
  },
  {
   "cell_type": "code",
   "execution_count": 13,
   "id": "df89e946",
   "metadata": {},
   "outputs": [
    {
     "data": {
      "text/plain": [
       "{'text': '\\nChains allow us to combine multiple \\n\\n\\n\\ncomponents together to create a single, coherent application. \\n\\n\\nFor example, we can create a chain that takes user input, \\t format it with a\\nPromptTemplate, \\n\\n\\nand then passes the formatted response to an LLM. We can build more complex chains by\\ncombining \\t multiple chains together, or by \\n\\n\\n\\n\\ncombining chains with other components.\\n',\n",
       " 'style': 'a 90s rapper',\n",
       " 'final_output': \"Chains be like the glue that sticks all the pieces together, makin' one dope app. Like, we can make a chain that grabs what the user types, dresses it up with a PromptTemplate, and then hands it off to an LLM. We can get even fancier by mixin' and matchin' different chains, or throwin' in other components for extra flavor.\"}"
      ]
     },
     "execution_count": 13,
     "metadata": {},
     "output_type": "execute_result"
    }
   ],
   "source": [
    "input_text = \"\"\"\n",
    "Chains allow us to combine multiple \\n\\n\\n\n",
    "components together to create a single, coherent application. \\n\\n\n",
    "For example, we can create a chain that takes user input, \\t format it with a\n",
    "PromptTemplate, \\n\\n\n",
    "and then passes the formatted response to an LLM. We can build more complex chains by\n",
    "combining \\t multiple chains together, or by \\n\\n\\n\\n\n",
    "combining chains with other components.\n",
    "\"\"\"\n",
    "\n",
    "sequential_chain.invoke({'text': input_text, 'style': 'a 90s rapper'}) # 체인을 순서대로 실행 "
   ]
  },
  {
   "cell_type": "code",
   "execution_count": 20,
   "id": "ffe97cd0",
   "metadata": {},
   "outputs": [
    {
     "name": "stdout",
     "output_type": "stream",
     "text": [
      "Chains be like mixin' different parts to make one dope app. Like, we can put together a chain that takes what the user says, jazz it up with a PromptTemplate, and then send it to an LLM. We can get even fancier by mixin' a bunch of chains or throwin' in other components.\n"
     ]
    }
   ],
   "source": [
    "result = sequential_chain.invoke({'text': input_text, 'style': 'a 90s rapper'})\n",
    "print(result['final_output'])"
   ]
  }
 ],
 "metadata": {
  "kernelspec": {
   "display_name": "Python 3 (ipykernel)",
   "language": "python",
   "name": "python3"
  },
  "language_info": {
   "codemirror_mode": {
    "name": "ipython",
    "version": 3
   },
   "file_extension": ".py",
   "mimetype": "text/x-python",
   "name": "python",
   "nbconvert_exporter": "python",
   "pygments_lexer": "ipython3",
   "version": "3.7.16"
  }
 },
 "nbformat": 4,
 "nbformat_minor": 5
}
